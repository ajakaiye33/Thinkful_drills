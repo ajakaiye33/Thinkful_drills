{
  "nbformat": 4,
  "nbformat_minor": 0,
  "metadata": {
    "colab": {
      "name": "Credit Card Fraud Analysis.ipynb",
      "provenance": [],
      "authorship_tag": "ABX9TyMcvCg2HGiosdVmEHEawoer"
    },
    "kernelspec": {
      "name": "python3",
      "display_name": "Python 3"
    }
  },
  "cells": [
    {
      "cell_type": "code",
      "metadata": {
        "id": "KglFO_O6PtCZ",
        "colab_type": "code",
        "colab": {}
      },
      "source": [
        "# import necessary packages\n",
        "import pandas as pd\n",
        "import numpy as np"
      ],
      "execution_count": 35,
      "outputs": []
    },
    {
      "cell_type": "code",
      "metadata": {
        "id": "OVpnwuFZbKUU",
        "colab_type": "code",
        "colab": {}
      },
      "source": [
        "card_fraud = pd.read_csv('https://fraudcredit-analysis.s3.amazonaws.com/creditcard.csv')"
      ],
      "execution_count": 36,
      "outputs": []
    },
    {
      "cell_type": "code",
      "metadata": {
        "id": "OmmeTHWXcHmj",
        "colab_type": "code",
        "colab": {
          "base_uri": "https://localhost:8080/",
          "height": 224
        },
        "outputId": "76f95663-c9ae-4ba0-ac58-4895cafc53ba"
      },
      "source": [
        "card_fraud.head()"
      ],
      "execution_count": 37,
      "outputs": [
        {
          "output_type": "execute_result",
          "data": {
            "text/html": [
              "<div>\n",
              "<style scoped>\n",
              "    .dataframe tbody tr th:only-of-type {\n",
              "        vertical-align: middle;\n",
              "    }\n",
              "\n",
              "    .dataframe tbody tr th {\n",
              "        vertical-align: top;\n",
              "    }\n",
              "\n",
              "    .dataframe thead th {\n",
              "        text-align: right;\n",
              "    }\n",
              "</style>\n",
              "<table border=\"1\" class=\"dataframe\">\n",
              "  <thead>\n",
              "    <tr style=\"text-align: right;\">\n",
              "      <th></th>\n",
              "      <th>Time</th>\n",
              "      <th>V1</th>\n",
              "      <th>V2</th>\n",
              "      <th>V3</th>\n",
              "      <th>V4</th>\n",
              "      <th>V5</th>\n",
              "      <th>V6</th>\n",
              "      <th>V7</th>\n",
              "      <th>V8</th>\n",
              "      <th>V9</th>\n",
              "      <th>V10</th>\n",
              "      <th>V11</th>\n",
              "      <th>V12</th>\n",
              "      <th>V13</th>\n",
              "      <th>V14</th>\n",
              "      <th>V15</th>\n",
              "      <th>V16</th>\n",
              "      <th>V17</th>\n",
              "      <th>V18</th>\n",
              "      <th>V19</th>\n",
              "      <th>V20</th>\n",
              "      <th>V21</th>\n",
              "      <th>V22</th>\n",
              "      <th>V23</th>\n",
              "      <th>V24</th>\n",
              "      <th>V25</th>\n",
              "      <th>V26</th>\n",
              "      <th>V27</th>\n",
              "      <th>V28</th>\n",
              "      <th>Amount</th>\n",
              "      <th>Class</th>\n",
              "    </tr>\n",
              "  </thead>\n",
              "  <tbody>\n",
              "    <tr>\n",
              "      <th>0</th>\n",
              "      <td>0.0</td>\n",
              "      <td>-1.359807</td>\n",
              "      <td>-0.072781</td>\n",
              "      <td>2.536347</td>\n",
              "      <td>1.378155</td>\n",
              "      <td>-0.338321</td>\n",
              "      <td>0.462388</td>\n",
              "      <td>0.239599</td>\n",
              "      <td>0.098698</td>\n",
              "      <td>0.363787</td>\n",
              "      <td>0.090794</td>\n",
              "      <td>-0.551600</td>\n",
              "      <td>-0.617801</td>\n",
              "      <td>-0.991390</td>\n",
              "      <td>-0.311169</td>\n",
              "      <td>1.468177</td>\n",
              "      <td>-0.470401</td>\n",
              "      <td>0.207971</td>\n",
              "      <td>0.025791</td>\n",
              "      <td>0.403993</td>\n",
              "      <td>0.251412</td>\n",
              "      <td>-0.018307</td>\n",
              "      <td>0.277838</td>\n",
              "      <td>-0.110474</td>\n",
              "      <td>0.066928</td>\n",
              "      <td>0.128539</td>\n",
              "      <td>-0.189115</td>\n",
              "      <td>0.133558</td>\n",
              "      <td>-0.021053</td>\n",
              "      <td>149.62</td>\n",
              "      <td>0</td>\n",
              "    </tr>\n",
              "    <tr>\n",
              "      <th>1</th>\n",
              "      <td>0.0</td>\n",
              "      <td>1.191857</td>\n",
              "      <td>0.266151</td>\n",
              "      <td>0.166480</td>\n",
              "      <td>0.448154</td>\n",
              "      <td>0.060018</td>\n",
              "      <td>-0.082361</td>\n",
              "      <td>-0.078803</td>\n",
              "      <td>0.085102</td>\n",
              "      <td>-0.255425</td>\n",
              "      <td>-0.166974</td>\n",
              "      <td>1.612727</td>\n",
              "      <td>1.065235</td>\n",
              "      <td>0.489095</td>\n",
              "      <td>-0.143772</td>\n",
              "      <td>0.635558</td>\n",
              "      <td>0.463917</td>\n",
              "      <td>-0.114805</td>\n",
              "      <td>-0.183361</td>\n",
              "      <td>-0.145783</td>\n",
              "      <td>-0.069083</td>\n",
              "      <td>-0.225775</td>\n",
              "      <td>-0.638672</td>\n",
              "      <td>0.101288</td>\n",
              "      <td>-0.339846</td>\n",
              "      <td>0.167170</td>\n",
              "      <td>0.125895</td>\n",
              "      <td>-0.008983</td>\n",
              "      <td>0.014724</td>\n",
              "      <td>2.69</td>\n",
              "      <td>0</td>\n",
              "    </tr>\n",
              "    <tr>\n",
              "      <th>2</th>\n",
              "      <td>1.0</td>\n",
              "      <td>-1.358354</td>\n",
              "      <td>-1.340163</td>\n",
              "      <td>1.773209</td>\n",
              "      <td>0.379780</td>\n",
              "      <td>-0.503198</td>\n",
              "      <td>1.800499</td>\n",
              "      <td>0.791461</td>\n",
              "      <td>0.247676</td>\n",
              "      <td>-1.514654</td>\n",
              "      <td>0.207643</td>\n",
              "      <td>0.624501</td>\n",
              "      <td>0.066084</td>\n",
              "      <td>0.717293</td>\n",
              "      <td>-0.165946</td>\n",
              "      <td>2.345865</td>\n",
              "      <td>-2.890083</td>\n",
              "      <td>1.109969</td>\n",
              "      <td>-0.121359</td>\n",
              "      <td>-2.261857</td>\n",
              "      <td>0.524980</td>\n",
              "      <td>0.247998</td>\n",
              "      <td>0.771679</td>\n",
              "      <td>0.909412</td>\n",
              "      <td>-0.689281</td>\n",
              "      <td>-0.327642</td>\n",
              "      <td>-0.139097</td>\n",
              "      <td>-0.055353</td>\n",
              "      <td>-0.059752</td>\n",
              "      <td>378.66</td>\n",
              "      <td>0</td>\n",
              "    </tr>\n",
              "    <tr>\n",
              "      <th>3</th>\n",
              "      <td>1.0</td>\n",
              "      <td>-0.966272</td>\n",
              "      <td>-0.185226</td>\n",
              "      <td>1.792993</td>\n",
              "      <td>-0.863291</td>\n",
              "      <td>-0.010309</td>\n",
              "      <td>1.247203</td>\n",
              "      <td>0.237609</td>\n",
              "      <td>0.377436</td>\n",
              "      <td>-1.387024</td>\n",
              "      <td>-0.054952</td>\n",
              "      <td>-0.226487</td>\n",
              "      <td>0.178228</td>\n",
              "      <td>0.507757</td>\n",
              "      <td>-0.287924</td>\n",
              "      <td>-0.631418</td>\n",
              "      <td>-1.059647</td>\n",
              "      <td>-0.684093</td>\n",
              "      <td>1.965775</td>\n",
              "      <td>-1.232622</td>\n",
              "      <td>-0.208038</td>\n",
              "      <td>-0.108300</td>\n",
              "      <td>0.005274</td>\n",
              "      <td>-0.190321</td>\n",
              "      <td>-1.175575</td>\n",
              "      <td>0.647376</td>\n",
              "      <td>-0.221929</td>\n",
              "      <td>0.062723</td>\n",
              "      <td>0.061458</td>\n",
              "      <td>123.50</td>\n",
              "      <td>0</td>\n",
              "    </tr>\n",
              "    <tr>\n",
              "      <th>4</th>\n",
              "      <td>2.0</td>\n",
              "      <td>-1.158233</td>\n",
              "      <td>0.877737</td>\n",
              "      <td>1.548718</td>\n",
              "      <td>0.403034</td>\n",
              "      <td>-0.407193</td>\n",
              "      <td>0.095921</td>\n",
              "      <td>0.592941</td>\n",
              "      <td>-0.270533</td>\n",
              "      <td>0.817739</td>\n",
              "      <td>0.753074</td>\n",
              "      <td>-0.822843</td>\n",
              "      <td>0.538196</td>\n",
              "      <td>1.345852</td>\n",
              "      <td>-1.119670</td>\n",
              "      <td>0.175121</td>\n",
              "      <td>-0.451449</td>\n",
              "      <td>-0.237033</td>\n",
              "      <td>-0.038195</td>\n",
              "      <td>0.803487</td>\n",
              "      <td>0.408542</td>\n",
              "      <td>-0.009431</td>\n",
              "      <td>0.798278</td>\n",
              "      <td>-0.137458</td>\n",
              "      <td>0.141267</td>\n",
              "      <td>-0.206010</td>\n",
              "      <td>0.502292</td>\n",
              "      <td>0.219422</td>\n",
              "      <td>0.215153</td>\n",
              "      <td>69.99</td>\n",
              "      <td>0</td>\n",
              "    </tr>\n",
              "  </tbody>\n",
              "</table>\n",
              "</div>"
            ],
            "text/plain": [
              "   Time        V1        V2        V3  ...       V27       V28  Amount  Class\n",
              "0   0.0 -1.359807 -0.072781  2.536347  ...  0.133558 -0.021053  149.62      0\n",
              "1   0.0  1.191857  0.266151  0.166480  ... -0.008983  0.014724    2.69      0\n",
              "2   1.0 -1.358354 -1.340163  1.773209  ... -0.055353 -0.059752  378.66      0\n",
              "3   1.0 -0.966272 -0.185226  1.792993  ...  0.062723  0.061458  123.50      0\n",
              "4   2.0 -1.158233  0.877737  1.548718  ...  0.219422  0.215153   69.99      0\n",
              "\n",
              "[5 rows x 31 columns]"
            ]
          },
          "metadata": {
            "tags": []
          },
          "execution_count": 37
        }
      ]
    },
    {
      "cell_type": "code",
      "metadata": {
        "id": "oQGKSyLYcZro",
        "colab_type": "code",
        "colab": {
          "base_uri": "https://localhost:8080/",
          "height": 663
        },
        "outputId": "5c913817-5caf-4895-acb3-ccdcb9a03a50"
      },
      "source": [
        "# explore the features in the dataframe\n",
        "card_fraud.info()"
      ],
      "execution_count": 38,
      "outputs": [
        {
          "output_type": "stream",
          "text": [
            "<class 'pandas.core.frame.DataFrame'>\n",
            "RangeIndex: 284807 entries, 0 to 284806\n",
            "Data columns (total 31 columns):\n",
            " #   Column  Non-Null Count   Dtype  \n",
            "---  ------  --------------   -----  \n",
            " 0   Time    284807 non-null  float64\n",
            " 1   V1      284807 non-null  float64\n",
            " 2   V2      284807 non-null  float64\n",
            " 3   V3      284807 non-null  float64\n",
            " 4   V4      284807 non-null  float64\n",
            " 5   V5      284807 non-null  float64\n",
            " 6   V6      284807 non-null  float64\n",
            " 7   V7      284807 non-null  float64\n",
            " 8   V8      284807 non-null  float64\n",
            " 9   V9      284807 non-null  float64\n",
            " 10  V10     284807 non-null  float64\n",
            " 11  V11     284807 non-null  float64\n",
            " 12  V12     284807 non-null  float64\n",
            " 13  V13     284807 non-null  float64\n",
            " 14  V14     284807 non-null  float64\n",
            " 15  V15     284807 non-null  float64\n",
            " 16  V16     284807 non-null  float64\n",
            " 17  V17     284807 non-null  float64\n",
            " 18  V18     284807 non-null  float64\n",
            " 19  V19     284807 non-null  float64\n",
            " 20  V20     284807 non-null  float64\n",
            " 21  V21     284807 non-null  float64\n",
            " 22  V22     284807 non-null  float64\n",
            " 23  V23     284807 non-null  float64\n",
            " 24  V24     284807 non-null  float64\n",
            " 25  V25     284807 non-null  float64\n",
            " 26  V26     284807 non-null  float64\n",
            " 27  V27     284807 non-null  float64\n",
            " 28  V28     284807 non-null  float64\n",
            " 29  Amount  284807 non-null  float64\n",
            " 30  Class   284807 non-null  int64  \n",
            "dtypes: float64(30), int64(1)\n",
            "memory usage: 67.4 MB\n"
          ],
          "name": "stdout"
        }
      ]
    },
    {
      "cell_type": "markdown",
      "metadata": {
        "id": "cGXaYVb3gco3",
        "colab_type": "text"
      },
      "source": [
        "## Display class labels"
      ]
    },
    {
      "cell_type": "code",
      "metadata": {
        "id": "coE2GrBqgVeo",
        "colab_type": "code",
        "colab": {
          "base_uri": "https://localhost:8080/",
          "height": 68
        },
        "outputId": "2ea81bb9-4adf-41ad-a664-37b15b632870"
      },
      "source": [
        "# counting the incidence of fraud and no fraud in the transation\n",
        "clbel = card_fraud['Class'].value_counts()\n",
        "clbel\n"
      ],
      "execution_count": 39,
      "outputs": [
        {
          "output_type": "execute_result",
          "data": {
            "text/plain": [
              "0    284315\n",
              "1       492\n",
              "Name: Class, dtype: int64"
            ]
          },
          "metadata": {
            "tags": []
          },
          "execution_count": 39
        }
      ]
    },
    {
      "cell_type": "code",
      "metadata": {
        "id": "FqAH0eBahMN0",
        "colab_type": "code",
        "colab": {
          "base_uri": "https://localhost:8080/",
          "height": 68
        },
        "outputId": "4c82e6d6-3046-4bc3-a290-6b21272e6222"
      },
      "source": [
        "# get the ratio of fraud cases: classes are highly imbalance\n",
        "print(clbel/len(card_fraud))"
      ],
      "execution_count": 40,
      "outputs": [
        {
          "output_type": "stream",
          "text": [
            "0    0.998273\n",
            "1    0.001727\n",
            "Name: Class, dtype: float64\n"
          ],
          "name": "stdout"
        }
      ]
    },
    {
      "cell_type": "markdown",
      "metadata": {
        "id": "hLjsenKzjmPx",
        "colab_type": "text"
      },
      "source": [
        "## Visualize the data"
      ]
    },
    {
      "cell_type": "code",
      "metadata": {
        "id": "XwV16XdRhruW",
        "colab_type": "code",
        "colab": {
          "base_uri": "https://localhost:8080/",
          "height": 309
        },
        "outputId": "9e00f03c-2247-4d39-cf04-87d8374d59f2"
      },
      "source": [
        "import matplotlib.pyplot as plt\n",
        "%matplotlib inline\n",
        "count_classes = pd.value_counts(card_fraud['Class'], sort = True).sort_index()\n",
        "count_classes.plot(kind='bar')\n",
        "plt.title('Fraud class histogram')\n",
        "plt.xlabel('Class')\n",
        "plt.ylabel('frequency')"
      ],
      "execution_count": 41,
      "outputs": [
        {
          "output_type": "execute_result",
          "data": {
            "text/plain": [
              "Text(0, 0.5, 'frequency')"
            ]
          },
          "metadata": {
            "tags": []
          },
          "execution_count": 41
        },
        {
          "output_type": "display_data",
          "data": {
            "image/png": "[encoded data removed]",
            "text/plain": [
              "<Figure size 432x288 with 1 Axes>"
            ]
          },
          "metadata": {
            "tags": [],
            "needs_background": "light"
          }
        }
      ]
    },
    {
      "cell_type": "code",
      "metadata": {
        "id": "PUxKL5QTkmsS",
        "colab_type": "code",
        "colab": {}
      },
      "source": [
        "def prep_data(df):\n",
        "  \"\"\"\n",
        "  Prepare the data to train model\n",
        "  args : df= dataframe\n",
        "  returns: X array of colums\n",
        "  y- class array to be predicted\n",
        "  \"\"\"\n",
        "  X = card_fraud.iloc[:, 1:29]\n",
        "  X = np.array(X).astype(np.float) # converting the values to numericals\n",
        "  y = card_fraud.iloc[:, 30]\n",
        "  y = np.array(y).astype(np.float) # target variable - class\n",
        "  return X,y\n",
        "\n",
        "def plot_data(X,y):\n",
        "  plt.scatter(X[y == 0,0], X[y == 0,1], label='class #0', alpha=0.5, linewidths=0.15)\n",
        "  plt.scatter(X[y == 1,0], X[y == 1,1], label='class #1', alpha=0.5, linewidth=0.5, c='r')\n",
        "  plt.legend()\n",
        "  return plt.show() \n"
      ],
      "execution_count": 42,
      "outputs": []
    },
    {
      "cell_type": "code",
      "metadata": {
        "id": "WuYNn4PGp6z-",
        "colab_type": "code",
        "colab": {
          "base_uri": "https://localhost:8080/",
          "height": 265
        },
        "outputId": "97080ce3-097c-4df7-9b09-1bc50e243700"
      },
      "source": [
        "# create X and y values from functions\n",
        "X,y = prep_data(card_fraud)\n",
        "\n",
        "#plot the data by running y and x\n",
        "plot_data(X,y)"
      ],
      "execution_count": 43,
      "outputs": [
        {
          "output_type": "display_data",
          "data": {
            "image/png": "[encoded data removed]",
            "text/plain": [
              "<Figure size 432x288 with 1 Axes>"
            ]
          },
          "metadata": {
            "tags": [],
            "needs_background": "light"
          }
        }
      ]
    },
    {
      "cell_type": "code",
      "metadata": {
        "id": "A1OIGHTaOK3q",
        "colab_type": "code",
        "colab": {}
      },
      "source": [
        ""
      ],
      "execution_count": 43,
      "outputs": []
    },
    {
      "cell_type": "code",
      "metadata": {
        "id": "ll6tRVvk79yC",
        "colab_type": "code",
        "colab": {
          "base_uri": "https://localhost:8080/",
          "height": 561
        },
        "outputId": "1263f426-6b4a-453a-a2fc-05db003bf3ec"
      },
      "source": [
        "card_fraud.iloc[0].count"
      ],
      "execution_count": 45,
      "outputs": [
        {
          "output_type": "execute_result",
          "data": {
            "text/plain": [
              "<bound method Series.count of Time        0.000000\n",
              "V1         -1.359807\n",
              "V2         -0.072781\n",
              "V3          2.536347\n",
              "V4          1.378155\n",
              "V5         -0.338321\n",
              "V6          0.462388\n",
              "V7          0.239599\n",
              "V8          0.098698\n",
              "V9          0.363787\n",
              "V10         0.090794\n",
              "V11        -0.551600\n",
              "V12        -0.617801\n",
              "V13        -0.991390\n",
              "V14        -0.311169\n",
              "V15         1.468177\n",
              "V16        -0.470401\n",
              "V17         0.207971\n",
              "V18         0.025791\n",
              "V19         0.403993\n",
              "V20         0.251412\n",
              "V21        -0.018307\n",
              "V22         0.277838\n",
              "V23        -0.110474\n",
              "V24         0.066928\n",
              "V25         0.128539\n",
              "V26        -0.189115\n",
              "V27         0.133558\n",
              "V28        -0.021053\n",
              "Amount    149.620000\n",
              "Class       0.000000\n",
              "Name: 0, dtype: float64>"
            ]
          },
          "metadata": {
            "tags": []
          },
          "execution_count": 45
        }
      ]
    },
    {
      "cell_type": "code",
      "metadata": {
        "id": "n4gu29pm_PLA",
        "colab_type": "code",
        "colab": {
          "base_uri": "https://localhost:8080/",
          "height": 34
        },
        "outputId": "58d9109f-3458-495a-f5a7-65f497b47bc1"
      },
      "source": [
        "card_fraud.shape"
      ],
      "execution_count": 46,
      "outputs": [
        {
          "output_type": "execute_result",
          "data": {
            "text/plain": [
              "(284807, 31)"
            ]
          },
          "metadata": {
            "tags": []
          },
          "execution_count": 46
        }
      ]
    },
    {
      "cell_type": "markdown",
      "metadata": {
        "id": "IJ-xlDhpAYrL",
        "colab_type": "text"
      },
      "source": [
        "## Handling the imbalance class\n",
        "- by `Random Under Sampling(RUS)`: This reduces the majority class and makes the data balanced\n",
        "- by `Random over Sampling(ROS)`: This generates duplicates of the minority class. Inefficient beacause of duplicacy\n",
        "- by `Synthetic Minority Oversampling Technique(SMOTE)`: Generate fakes realistic data to balance out the data.\n",
        "In this project we shall apply the SMOTE method"
      ]
    },
    {
      "cell_type": "code",
      "metadata": {
        "id": "K2HrzJDJ_1wT",
        "colab_type": "code",
        "colab": {
          "base_uri": "https://localhost:8080/",
          "height": 319
        },
        "outputId": "2d29efd3-6169-4149-a628-6261f69553bd"
      },
      "source": [
        "from imblearn.over_sampling import SMOTE\n",
        "X, y = prep_data(card_fraud)\n",
        "method = SMOTE(kind='regular') # invoking the sampling method\n",
        "X_resampled, y_resampled = method.fit_sample(X,y)\n",
        "plot_data(X_resampled, y_resampled)"
      ],
      "execution_count": 47,
      "outputs": [
        {
          "output_type": "stream",
          "text": [
            "/usr/local/lib/python3.6/dist-packages/sklearn/utils/deprecation.py:87: FutureWarning: Function safe_indexing is deprecated; safe_indexing is deprecated in version 0.22 and will be removed in version 0.24.\n",
            "  warnings.warn(msg, category=FutureWarning)\n"
          ],
          "name": "stderr"
        },
        {
          "output_type": "display_data",
          "data": {
            "image/png": "[encoded data removed]",
            "text/plain": [
              "<Figure size 432x288 with 1 Axes>"
            ]
          },
          "metadata": {
            "tags": [],
            "needs_background": "light"
          }
        }
      ]
    },
    {
      "cell_type": "code",
      "metadata": {
        "id": "HyPRtO9rEIKL",
        "colab_type": "code",
        "colab": {}
      },
      "source": [
        "def comapare_plot(X, y , X_resampled, y_resampled, method):\n",
        "  # start a plot figure\n",
        "  f, (ax1, ax2) = plt.subplots(1,2)\n",
        "  \n",
        "  #subplot number 1, this is our normal data\n",
        "  c0 = ax1.scatter(X[y == 0,0], X[y == 0,1], label='Class #0', alpha = 0.5)\n",
        "  c1 = ax1.scatter(X[y == 1,0], X[y == 1, 1], label='Class #1', alpha = 0.5, c='r')\n",
        "  ax1.set_title('Original set')\n",
        "\n",
        "\n",
        "  # sub-plot number 2 this is the oversampled data\n",
        "  ax2.scatter(X_resampled[y_resampled == 0, 0], X_resampled[y_resampled == 0, 1], label='Class#0', alpha=.5)\n",
        "  ax2.scatter(X_resampled[y_resampled == 1, 0], X_resampled[y_resampled == 1,1], label='Class#1', alpha=.5,c='r')\n",
        "  ax2.set_title(method)\n",
        "\n",
        "  # some setting and ready to go\n",
        "  plt.figlegend((c0,c1),('Class #0', 'Class#1'), loc='lower center', ncol=2, labelspacing=0.)\n",
        "  plt.tight_layout(pad=3)\n",
        "  return plt.show()\n"
      ],
      "execution_count": 48,
      "outputs": []
    },
    {
      "cell_type": "code",
      "metadata": {
        "id": "qe92q_s1NJ0g",
        "colab_type": "code",
        "colab": {
          "base_uri": "https://localhost:8080/",
          "height": 386
        },
        "outputId": "2ad447dc-afc6-4099-9943-fd6c82f097bb"
      },
      "source": [
        "# Print the value_counts on the original labels y\n",
        "print(pd.value_counts(pd.Series(y)))\n",
        "\n",
        "# Print the value_counts\n",
        "print(pd.value_counts(pd.Series(y_resampled)))\n",
        "\n",
        "# Run compare plot\n",
        "comapare_plot(X,y, X_resampled, y_resampled, method='SMOTE')"
      ],
      "execution_count": 49,
      "outputs": [
        {
          "output_type": "stream",
          "text": [
            "0.0    284315\n",
            "1.0       492\n",
            "dtype: int64\n",
            "1.0    284315\n",
            "0.0    284315\n",
            "dtype: int64\n"
          ],
          "name": "stdout"
        },
        {
          "output_type": "display_data",
          "data": {
            "image/png": "[encoded data removed]",
            "text/plain": [
              "<Figure size 432x288 with 2 Axes>"
            ]
          },
          "metadata": {
            "tags": [],
            "needs_background": "light"
          }
        }
      ]
    },
    {
      "cell_type": "markdown",
      "metadata": {
        "id": "HJOIuF2pPH_v",
        "colab_type": "text"
      },
      "source": [
        "## Rule Base method of detecting Fraud\n",
        "- This is the old way where a threshold is established and use to split the fraud class into fraudulent and Non-fraudulent transactions. often time statistics threshold are determined by taking the mean values of observation."
      ]
    },
    {
      "cell_type": "code",
      "metadata": {
        "id": "g96-xq_4OnkW",
        "colab_type": "code",
        "colab": {
          "base_uri": "https://localhost:8080/",
          "height": 162
        },
        "outputId": "0cec00e8-4fdd-4e66-f9a0-ea26565013b8"
      },
      "source": [
        "# Get the mean for each group\n",
        "card_fraud.groupby('Class').mean()"
      ],
      "execution_count": 50,
      "outputs": [
        {
          "output_type": "execute_result",
          "data": {
            "text/html": [
              "<div>\n",
              "<style scoped>\n",
              "    .dataframe tbody tr th:only-of-type {\n",
              "        vertical-align: middle;\n",
              "    }\n",
              "\n",
              "    .dataframe tbody tr th {\n",
              "        vertical-align: top;\n",
              "    }\n",
              "\n",
              "    .dataframe thead th {\n",
              "        text-align: right;\n",
              "    }\n",
              "</style>\n",
              "<table border=\"1\" class=\"dataframe\">\n",
              "  <thead>\n",
              "    <tr style=\"text-align: right;\">\n",
              "      <th></th>\n",
              "      <th>Time</th>\n",
              "      <th>V1</th>\n",
              "      <th>V2</th>\n",
              "      <th>V3</th>\n",
              "      <th>V4</th>\n",
              "      <th>V5</th>\n",
              "      <th>V6</th>\n",
              "      <th>V7</th>\n",
              "      <th>V8</th>\n",
              "      <th>V9</th>\n",
              "      <th>V10</th>\n",
              "      <th>V11</th>\n",
              "      <th>V12</th>\n",
              "      <th>V13</th>\n",
              "      <th>V14</th>\n",
              "      <th>V15</th>\n",
              "      <th>V16</th>\n",
              "      <th>V17</th>\n",
              "      <th>V18</th>\n",
              "      <th>V19</th>\n",
              "      <th>V20</th>\n",
              "      <th>V21</th>\n",
              "      <th>V22</th>\n",
              "      <th>V23</th>\n",
              "      <th>V24</th>\n",
              "      <th>V25</th>\n",
              "      <th>V26</th>\n",
              "      <th>V27</th>\n",
              "      <th>V28</th>\n",
              "      <th>Amount</th>\n",
              "    </tr>\n",
              "    <tr>\n",
              "      <th>Class</th>\n",
              "      <th></th>\n",
              "      <th></th>\n",
              "      <th></th>\n",
              "      <th></th>\n",
              "      <th></th>\n",
              "      <th></th>\n",
              "      <th></th>\n",
              "      <th></th>\n",
              "      <th></th>\n",
              "      <th></th>\n",
              "      <th></th>\n",
              "      <th></th>\n",
              "      <th></th>\n",
              "      <th></th>\n",
              "      <th></th>\n",
              "      <th></th>\n",
              "      <th></th>\n",
              "      <th></th>\n",
              "      <th></th>\n",
              "      <th></th>\n",
              "      <th></th>\n",
              "      <th></th>\n",
              "      <th></th>\n",
              "      <th></th>\n",
              "      <th></th>\n",
              "      <th></th>\n",
              "      <th></th>\n",
              "      <th></th>\n",
              "      <th></th>\n",
              "      <th></th>\n",
              "    </tr>\n",
              "  </thead>\n",
              "  <tbody>\n",
              "    <tr>\n",
              "      <th>0</th>\n",
              "      <td>94838.202258</td>\n",
              "      <td>0.008258</td>\n",
              "      <td>-0.006271</td>\n",
              "      <td>0.012171</td>\n",
              "      <td>-0.007860</td>\n",
              "      <td>0.005453</td>\n",
              "      <td>0.002419</td>\n",
              "      <td>0.009637</td>\n",
              "      <td>-0.000987</td>\n",
              "      <td>0.004467</td>\n",
              "      <td>0.009824</td>\n",
              "      <td>-0.006576</td>\n",
              "      <td>0.010832</td>\n",
              "      <td>0.000189</td>\n",
              "      <td>0.012064</td>\n",
              "      <td>0.000161</td>\n",
              "      <td>0.007164</td>\n",
              "      <td>0.011535</td>\n",
              "      <td>0.003887</td>\n",
              "      <td>-0.001178</td>\n",
              "      <td>-0.000644</td>\n",
              "      <td>-0.001235</td>\n",
              "      <td>-0.000024</td>\n",
              "      <td>0.000070</td>\n",
              "      <td>0.000182</td>\n",
              "      <td>-0.000072</td>\n",
              "      <td>-0.000089</td>\n",
              "      <td>-0.000295</td>\n",
              "      <td>-0.000131</td>\n",
              "      <td>88.291022</td>\n",
              "    </tr>\n",
              "    <tr>\n",
              "      <th>1</th>\n",
              "      <td>80746.806911</td>\n",
              "      <td>-4.771948</td>\n",
              "      <td>3.623778</td>\n",
              "      <td>-7.033281</td>\n",
              "      <td>4.542029</td>\n",
              "      <td>-3.151225</td>\n",
              "      <td>-1.397737</td>\n",
              "      <td>-5.568731</td>\n",
              "      <td>0.570636</td>\n",
              "      <td>-2.581123</td>\n",
              "      <td>-5.676883</td>\n",
              "      <td>3.800173</td>\n",
              "      <td>-6.259393</td>\n",
              "      <td>-0.109334</td>\n",
              "      <td>-6.971723</td>\n",
              "      <td>-0.092929</td>\n",
              "      <td>-4.139946</td>\n",
              "      <td>-6.665836</td>\n",
              "      <td>-2.246308</td>\n",
              "      <td>0.680659</td>\n",
              "      <td>0.372319</td>\n",
              "      <td>0.713588</td>\n",
              "      <td>0.014049</td>\n",
              "      <td>-0.040308</td>\n",
              "      <td>-0.105130</td>\n",
              "      <td>0.041449</td>\n",
              "      <td>0.051648</td>\n",
              "      <td>0.170575</td>\n",
              "      <td>0.075667</td>\n",
              "      <td>122.211321</td>\n",
              "    </tr>\n",
              "  </tbody>\n",
              "</table>\n",
              "</div>"
            ],
            "text/plain": [
              "               Time        V1        V2  ...       V27       V28      Amount\n",
              "Class                                    ...                                \n",
              "0      94838.202258  0.008258 -0.006271  ... -0.000295 -0.000131   88.291022\n",
              "1      80746.806911 -4.771948  3.623778  ...  0.170575  0.075667  122.211321\n",
              "\n",
              "[2 rows x 30 columns]"
            ]
          },
          "metadata": {
            "tags": []
          },
          "execution_count": 50
        }
      ]
    },
    {
      "cell_type": "code",
      "metadata": {
        "id": "VJZryujxQlm8",
        "colab_type": "code",
        "colab": {
          "base_uri": "https://localhost:8080/",
          "height": 142
        },
        "outputId": "55861955-df11-4d16-efd1-c57763fb8bb5"
      },
      "source": [
        "# implement a rule for stating which cases are flagged as fraud\n",
        "card_fraud['flag_as_fraud'] = np.where(np.logical_and(card_fraud['V1'] < -3, card_fraud['V3'] < -5), 1,0)\n",
        "\n",
        "# Create a crosstable of flagged fraud cases versus the actual fraud cases\n",
        "pd.crosstab(card_fraud['Class'], card_fraud['flag_as_fraud'], rownames=['Actual Fraud'], colnames=['Flagged Fraud'])\n"
      ],
      "execution_count": 51,
      "outputs": [
        {
          "output_type": "execute_result",
          "data": {
            "text/html": [
              "<div>\n",
              "<style scoped>\n",
              "    .dataframe tbody tr th:only-of-type {\n",
              "        vertical-align: middle;\n",
              "    }\n",
              "\n",
              "    .dataframe tbody tr th {\n",
              "        vertical-align: top;\n",
              "    }\n",
              "\n",
              "    .dataframe thead th {\n",
              "        text-align: right;\n",
              "    }\n",
              "</style>\n",
              "<table border=\"1\" class=\"dataframe\">\n",
              "  <thead>\n",
              "    <tr style=\"text-align: right;\">\n",
              "      <th>Flagged Fraud</th>\n",
              "      <th>0</th>\n",
              "      <th>1</th>\n",
              "    </tr>\n",
              "    <tr>\n",
              "      <th>Actual Fraud</th>\n",
              "      <th></th>\n",
              "      <th></th>\n",
              "    </tr>\n",
              "  </thead>\n",
              "  <tbody>\n",
              "    <tr>\n",
              "      <th>0</th>\n",
              "      <td>283089</td>\n",
              "      <td>1226</td>\n",
              "    </tr>\n",
              "    <tr>\n",
              "      <th>1</th>\n",
              "      <td>322</td>\n",
              "      <td>170</td>\n",
              "    </tr>\n",
              "  </tbody>\n",
              "</table>\n",
              "</div>"
            ],
            "text/plain": [
              "Flagged Fraud       0     1\n",
              "Actual Fraud               \n",
              "0              283089  1226\n",
              "1                 322   170"
            ]
          },
          "metadata": {
            "tags": []
          },
          "execution_count": 51
        }
      ]
    },
    {
      "cell_type": "markdown",
      "metadata": {
        "id": "3okNYhM1UgXa",
        "colab_type": "text"
      },
      "source": [
        " > with this rule we detect 170 out of 492 fraud cases can't detect the other 322 and get 1226 false positives"
      ]
    },
    {
      "cell_type": "markdown",
      "metadata": {
        "id": "adT8-R3rUxak",
        "colab_type": "text"
      },
      "source": [
        "## Using ML Classiification to detect and catch fraudsters\n",
        "- we can see whether using logistic regression would improve the results from the rule base method"
      ]
    },
    {
      "cell_type": "code",
      "metadata": {
        "id": "D_o3QCUITTDw",
        "colab_type": "code",
        "colab": {}
      },
      "source": [
        " # importign sklearn for training splitting and importing classifier\n",
        " from sklearn.model_selection import train_test_split\n",
        " from sklearn.linear_model import LogisticRegression\n",
        "\n",
        " from sklearn.metrics import classification_report\n",
        " from sklearn.metrics import confusion_matrix\n",
        " "
      ],
      "execution_count": 52,
      "outputs": []
    },
    {
      "cell_type": "code",
      "metadata": {
        "id": "cOOz3AltXM-Z",
        "colab_type": "code",
        "colab": {
          "base_uri": "https://localhost:8080/",
          "height": 238
        },
        "outputId": "7ab4b7b5-b9e7-40d8-d923-7677744157e5"
      },
      "source": [
        "# create training and testing set\n",
        "X_train, X_test, y_train, y_test = train_test_split(X, y, test_size=.3, random_state=0)\n",
        "\n",
        "# Fit a logistic regression model to pur data\n",
        "model = LogisticRegression()\n",
        "model.fit(X_train, y_train)\n",
        "\n",
        "# Obtain model prediction\n",
        "predicted = model.predict(X_test)\n",
        "\n",
        "# print the classificatiom report and confudion mastrix\n",
        "print(f'Classification report:\\n {classification_report(y_test,predicted)}')\n",
        "conf_mat = confusion_matrix(y_true=y_test, y_pred=predicted)\n",
        "print(f'Confusion matrix:\\n {conf_mat}')"
      ],
      "execution_count": 53,
      "outputs": [
        {
          "output_type": "stream",
          "text": [
            "Classification report:\n",
            "               precision    recall  f1-score   support\n",
            "\n",
            "         0.0       1.00      1.00      1.00     85296\n",
            "         1.0       0.89      0.62      0.73       147\n",
            "\n",
            "    accuracy                           1.00     85443\n",
            "   macro avg       0.95      0.81      0.87     85443\n",
            "weighted avg       1.00      1.00      1.00     85443\n",
            "\n",
            "Confusion matrix:\n",
            " [[85285    11]\n",
            " [   56    91]]\n"
          ],
          "name": "stdout"
        }
      ]
    },
    {
      "cell_type": "markdown",
      "metadata": {
        "id": "C_M4lfCubN-x",
        "colab_type": "text"
      },
      "source": [
        "> This is an improvement from the result of the rule base method as the number of false positive have reduced significantly"
      ]
    },
    {
      "cell_type": "markdown",
      "metadata": {
        "id": "sBBn-hxRcbVe",
        "colab_type": "text"
      },
      "source": [
        "## Logistic Regression on SMOTE Resampled Data\n",
        "- We shall apply the logistics regression on the SMOTE resampled data set i.e a balanced data set"
      ]
    },
    {
      "cell_type": "code",
      "metadata": {
        "id": "JVB00UXIaQpv",
        "colab_type": "code",
        "colab": {}
      },
      "source": [
        "# the pipeline module\n",
        "from imblearn.pipeline import Pipeline\n",
        "from imblearn.over_sampling import BorderlineSMOTE\n",
        "\n",
        "# Define which resample method ML Model to use in the pipeline\n",
        "resampling = BorderlineSMOTE(kind='borderline-2') # instead SMOTE(kind='boderline2')90\n",
        "model = LogisticRegression()\n",
        "\n",
        "# Define the pipeline, instruct it to combine SMOTE with the logistic Regression model\n",
        "pipeline =Pipeline([('SMOTE',resampling), ('Logistic Regression', model)])"
      ],
      "execution_count": 55,
      "outputs": []
    },
    {
      "cell_type": "code",
      "metadata": {
        "id": "RtpHbzsyg-Pt",
        "colab_type": "code",
        "colab": {
          "base_uri": "https://localhost:8080/",
          "height": 360
        },
        "outputId": "6ddd90ac-f2b0-4e72-c919-ebc95e79171d"
      },
      "source": [
        "# Split your data X and y, into a training and test set and fit the pipeline onto the training data\n",
        "X_train, X_test, y_train, y_test = train_test_split(X,y,test_size=.3, random_state=0)\n",
        "\n",
        "# Fit your pipeline onto your training set and obtain predictions by fitting the model onto the test data\n",
        "pipeline.fit(X_train, y_train)\n",
        "predicted = pipeline.predict(X_test)\n",
        "\n",
        "# Fit the results from the classification report and confusion matrix\n",
        "print(f'Classfication report:\\n {classification_report(y_test, predicted)}')\n",
        "conf_mat = confusion_matrix(y_true=y_test, y_pred=predicted)\n",
        "print(f'Confusion matrix:\\n {conf_mat}')\n"
      ],
      "execution_count": 56,
      "outputs": [
        {
          "output_type": "stream",
          "text": [
            "/usr/local/lib/python3.6/dist-packages/sklearn/utils/deprecation.py:87: FutureWarning: Function safe_indexing is deprecated; safe_indexing is deprecated in version 0.22 and will be removed in version 0.24.\n",
            "  warnings.warn(msg, category=FutureWarning)\n",
            "/usr/local/lib/python3.6/dist-packages/sklearn/utils/deprecation.py:87: FutureWarning: Function safe_indexing is deprecated; safe_indexing is deprecated in version 0.22 and will be removed in version 0.24.\n",
            "  warnings.warn(msg, category=FutureWarning)\n",
            "/usr/local/lib/python3.6/dist-packages/sklearn/utils/deprecation.py:87: FutureWarning: Function safe_indexing is deprecated; safe_indexing is deprecated in version 0.22 and will be removed in version 0.24.\n",
            "  warnings.warn(msg, category=FutureWarning)\n"
          ],
          "name": "stderr"
        },
        {
          "output_type": "stream",
          "text": [
            "Classfication report:\n",
            "               precision    recall  f1-score   support\n",
            "\n",
            "         0.0       1.00      0.98      0.99     85296\n",
            "         1.0       0.07      0.88      0.13       147\n",
            "\n",
            "    accuracy                           0.98     85443\n",
            "   macro avg       0.53      0.93      0.56     85443\n",
            "weighted avg       1.00      0.98      0.99     85443\n",
            "\n",
            "Confusion matrix:\n",
            " [[83494  1802]\n",
            " [   17   130]]\n"
          ],
          "name": "stdout"
        }
      ]
    },
    {
      "cell_type": "markdown",
      "metadata": {
        "id": "E4uEo7aAlqyu",
        "colab_type": "text"
      },
      "source": [
        "From the above result we can see that with resampling data and regression model, the results are worse than our previous results."
      ]
    },
    {
      "cell_type": "markdown",
      "metadata": {
        "id": "IactpPzFfhfF",
        "colab_type": "text"
      },
      "source": [
        "### Fraud Detection using Labelled Data\n",
        "we would attempt to apply supervised learning method"
      ]
    },
    {
      "cell_type": "code",
      "metadata": {
        "id": "xcisy-9gkvTT",
        "colab_type": "code",
        "colab": {
          "base_uri": "https://localhost:8080/",
          "height": 34
        },
        "outputId": "311d9b4b-d7fa-4695-aca3-ce1c8e7db363"
      },
      "source": [
        "#total nunber of observation from the length of y\n",
        "total_observation = len(y)\n",
        "total_observation\n"
      ],
      "execution_count": 57,
      "outputs": [
        {
          "output_type": "execute_result",
          "data": {
            "text/plain": [
              "284807"
            ]
          },
          "metadata": {
            "tags": []
          },
          "execution_count": 57
        }
      ]
    },
    {
      "cell_type": "code",
      "metadata": {
        "id": "DGF05MDHhiJG",
        "colab_type": "code",
        "colab": {
          "base_uri": "https://localhost:8080/",
          "height": 34
        },
        "outputId": "66b86967-4832-4d6c-ceb4-d808a44cf895"
      },
      "source": [
        "#count the number of non_fraudulent transaction\n",
        "non_fraud = [i for i in y if i == 0]\n",
        "count_non_fraud = non_fraud.count(0)\n",
        " \n",
        "#calculate percsntage of non fraud in the data set\n",
        "percentage = (float(count_non_fraud)/ float(total_observation)) * 100\n",
        "print(percentage)"
      ],
      "execution_count": 58,
      "outputs": [
        {
          "output_type": "stream",
          "text": [
            "99.82725143693798\n"
          ],
          "name": "stdout"
        }
      ]
    },
    {
      "cell_type": "code",
      "metadata": {
        "id": "8jYBQbHVjNK6",
        "colab_type": "code",
        "colab": {
          "base_uri": "https://localhost:8080/",
          "height": 34
        },
        "outputId": "004a9bcc-aa6f-4a61-9581-e3bb9f29089a"
      },
      "source": [
        "np.bincount(y.astype('int'))"
      ],
      "execution_count": 59,
      "outputs": [
        {
          "output_type": "execute_result",
          "data": {
            "text/plain": [
              "array([284315,    492])"
            ]
          },
          "metadata": {
            "tags": []
          },
          "execution_count": 59
        }
      ]
    },
    {
      "cell_type": "markdown",
      "metadata": {
        "id": "gvyDO0k9kb6L",
        "colab_type": "text"
      },
      "source": [
        "### Part 1 Random Forest classifier\n"
      ]
    },
    {
      "cell_type": "code",
      "metadata": {
        "id": "eP1SfZrRjz5V",
        "colab_type": "code",
        "colab": {}
      },
      "source": [
        "from sklearn.ensemble import RandomForestClassifier\n",
        "\n",
        "# split data into training and test\n",
        "X_train,X_test, y_train, y_test = train_test_split(X,y, test_size=.3, random_state=0)\n",
        "\n",
        "#instantiate the  Random forest model\n",
        "model = RandomForestClassifier(random_state=5)\n"
      ],
      "execution_count": 60,
      "outputs": []
    },
    {
      "cell_type": "code",
      "metadata": {
        "id": "LSfjRrRDlsle",
        "colab_type": "code",
        "colab": {
          "base_uri": "https://localhost:8080/",
          "height": 34
        },
        "outputId": "d2a522a4-41dc-4c81-8ee3-682cfc408c9c"
      },
      "source": [
        "X_test.shape, y_test.shape"
      ],
      "execution_count": 61,
      "outputs": [
        {
          "output_type": "execute_result",
          "data": {
            "text/plain": [
              "((85443, 28), (85443,))"
            ]
          },
          "metadata": {
            "tags": []
          },
          "execution_count": 61
        }
      ]
    },
    {
      "cell_type": "markdown",
      "metadata": {
        "id": "GYBFDQH5mqIp",
        "colab_type": "text"
      },
      "source": [
        "### Part 2 Random Forest Classifier"
      ]
    },
    {
      "cell_type": "code",
      "metadata": {
        "id": "8_H8AQ8Xmfmy",
        "colab_type": "code",
        "colab": {}
      },
      "source": [
        "# fit model to training data set\n",
        "model.fit(X_train, y_train)\n",
        "\n",
        "\n",
        "#obtain prediction from the test set\n",
        "\n",
        "predicted = model.predict(X_test)"
      ],
      "execution_count": 62,
      "outputs": []
    },
    {
      "cell_type": "code",
      "metadata": {
        "id": "VaWavsjZnkzg",
        "colab_type": "code",
        "colab": {
          "base_uri": "https://localhost:8080/",
          "height": 34
        },
        "outputId": "1b930107-1c85-403e-8f74-7d1fde3649ee"
      },
      "source": [
        "from sklearn.metrics import accuracy_score\n",
        "print(accuracy_score(y_test, predicted))"
      ],
      "execution_count": 63,
      "outputs": [
        {
          "output_type": "stream",
          "text": [
            "0.9995201479348805\n"
          ],
          "name": "stdout"
        }
      ]
    },
    {
      "cell_type": "markdown",
      "metadata": {
        "id": "z-nEprozo9G-",
        "colab_type": "text"
      },
      "source": [
        "### Performance metrics for Random Forest\n",
        "The AUROC curve would be ideal for an imbalance data\n"
      ]
    },
    {
      "cell_type": "code",
      "metadata": {
        "id": "kx6uNUceoyKX",
        "colab_type": "code",
        "colab": {
          "base_uri": "https://localhost:8080/",
          "height": 221
        },
        "outputId": "c20be4b2-f455-4c4e-a7e4-18a723542b7f"
      },
      "source": [
        "from sklearn.metrics import  classification_report, confusion_matrix, roc_auc_score\n",
        "\n",
        "#get prediction from Rf model\n",
        "predicted =  model.predict(X_test)\n",
        "\n",
        "# predcit probabilities\n",
        "probs = model.predict_proba(X_test)\n",
        "\n",
        "#print the AUROC Curve, classification report and confusion matrix\n",
        "print(classification_report(y_test, predicted))\n",
        "print(confusion_matrix(y_test, predicted, labels=[0,1]))\n",
        "print(f'AUC ROC score: {roc_auc_score(y_test, probs[:,1])}')"
      ],
      "execution_count": 64,
      "outputs": [
        {
          "output_type": "stream",
          "text": [
            "              precision    recall  f1-score   support\n",
            "\n",
            "         0.0       1.00      1.00      1.00     85296\n",
            "         1.0       0.95      0.76      0.85       147\n",
            "\n",
            "    accuracy                           1.00     85443\n",
            "   macro avg       0.97      0.88      0.92     85443\n",
            "weighted avg       1.00      1.00      1.00     85443\n",
            "\n",
            "[[85290     6]\n",
            " [   35   112]]\n",
            "AUC ROC score: 0.9440157253109459\n"
          ],
          "name": "stdout"
        }
      ]
    },
    {
      "cell_type": "code",
      "metadata": {
        "id": "HuZnYuzTrkuT",
        "colab_type": "code",
        "colab": {
          "base_uri": "https://localhost:8080/",
          "height": 136
        },
        "outputId": "fded32df-f2d7-4c32-d711-c8a4cd85f002"
      },
      "source": [
        "probs"
      ],
      "execution_count": 65,
      "outputs": [
        {
          "output_type": "execute_result",
          "data": {
            "text/plain": [
              "array([[1., 0.],\n",
              "       [1., 0.],\n",
              "       [1., 0.],\n",
              "       ...,\n",
              "       [1., 0.],\n",
              "       [1., 0.],\n",
              "       [1., 0.]])"
            ]
          },
          "metadata": {
            "tags": []
          },
          "execution_count": 65
        }
      ]
    },
    {
      "cell_type": "markdown",
      "metadata": {
        "id": "uwKf5AUlCJZA",
        "colab_type": "text"
      },
      "source": [
        "### Adjusting the RM to fraud detection\n"
      ]
    },
    {
      "cell_type": "code",
      "metadata": {
        "id": "3wYndW2T2Uf4",
        "colab_type": "code",
        "colab": {}
      },
      "source": [
        "def get_model_result(X_train, y_train, X_test, y_test, model):\n",
        "  model.fit(X_train, y_train)\n",
        "  predicted = model.predict(X_test)\n",
        "  print(classification_report(y_test, predicted))\n",
        "  print(confusion_matrix(y_test, predicted))"
      ],
      "execution_count": 66,
      "outputs": []
    },
    {
      "cell_type": "code",
      "metadata": {
        "id": "xol35pPKEOz5",
        "colab_type": "code",
        "colab": {
          "base_uri": "https://localhost:8080/",
          "height": 204
        },
        "outputId": "1ba65c8b-50e1-4a8e-f600-5b66d2b515ca"
      },
      "source": [
        "# change the model options\n",
        "model = RandomForestClassifier(bootstrap=True,#########################\n",
        "                               class_weight ={0:1,1:12},\n",
        "                               criterion = 'entropy',\n",
        "                               \n",
        "                               # Change depth of model\n",
        "                               max_depth=10,\n",
        "\n",
        "                               # Change the number\n",
        "                               min_samples_leaf=10,\n",
        "\n",
        "                               # Change the number of trees to use\n",
        "                               n_estimators=20,\n",
        "                               n_jobs=-1, random_state=5)\n",
        "# Run the function get_model_results\n",
        "get_model_result(X_train, y_train, X_test, y_test, model)"
      ],
      "execution_count": 67,
      "outputs": [
        {
          "output_type": "stream",
          "text": [
            "              precision    recall  f1-score   support\n",
            "\n",
            "         0.0       1.00      1.00      1.00     85296\n",
            "         1.0       0.91      0.82      0.86       147\n",
            "\n",
            "    accuracy                           1.00     85443\n",
            "   macro avg       0.95      0.91      0.93     85443\n",
            "weighted avg       1.00      1.00      1.00     85443\n",
            "\n",
            "[[85284    12]\n",
            " [   27   120]]\n"
          ],
          "name": "stdout"
        }
      ]
    },
    {
      "cell_type": "markdown",
      "metadata": {
        "id": "TrfjwKeqNnoH",
        "colab_type": "text"
      },
      "source": [
        "##### false positive has reduce significantly"
      ]
    },
    {
      "cell_type": "markdown",
      "metadata": {
        "id": "ZZa14RumOGme",
        "colab_type": "text"
      },
      "source": [
        "## GridSearch to find optimal parameter"
      ]
    },
    {
      "cell_type": "code",
      "metadata": {
        "id": "aMg-FsJwKM2f",
        "colab_type": "code",
        "colab": {}
      },
      "source": [
        "from sklearn.model_selection import GridSearchCV"
      ],
      "execution_count": 69,
      "outputs": []
    },
    {
      "cell_type": "code",
      "metadata": {
        "id": "bYwlRonuPrnc",
        "colab_type": "code",
        "colab": {
          "base_uri": "https://localhost:8080/",
          "height": 85
        },
        "outputId": "a67d0daf-eba4-4e97-cc7b-0633a50d94a8"
      },
      "source": [
        "# Define the parameter set to test\n",
        "param_grid = {\n",
        "    'n_estimators': [1, 30],\n",
        "    'max_features': ['auto', 'log2'],\n",
        "    'max_depth': [4, 8],\n",
        "    'criterion': ['gini', 'entropy']\n",
        "}\n",
        "\n",
        "# Define the model to use\n",
        "model = RandomForestClassifier(random_state=5) #######################\n",
        "\n",
        "# Combine the parameter sets with the defined\n",
        "CV_model = GridSearchCV(estimator=model, param_grid=param_grid, cv=5, scoring='recall', n_jobs=-1)\n",
        "\n",
        "CV_model.fit(X_train, y_train)\n",
        "CV_model.best_params_"
      ],
      "execution_count": 70,
      "outputs": [
        {
          "output_type": "execute_result",
          "data": {
            "text/plain": [
              "{'criterion': 'entropy',\n",
              " 'max_depth': 8,\n",
              " 'max_features': 'auto',\n",
              " 'n_estimators': 30}"
            ]
          },
          "metadata": {
            "tags": []
          },
          "execution_count": 70
        }
      ]
    },
    {
      "cell_type": "code",
      "metadata": {
        "id": "hWkCgTzmTuCW",
        "colab_type": "code",
        "colab": {
          "base_uri": "https://localhost:8080/",
          "height": 204
        },
        "outputId": "0c3bc55f-d822-4345-fcb5-26ffe8a4dca1"
      },
      "source": [
        "# Input the optimal parameters in the model\n",
        "model = RandomForestClassifier(class_weight={0:1,1:12}, ###################################\n",
        "                               criterion='gini',\n",
        "                               n_estimators=30, \n",
        "                               max_features='log2',  \n",
        "                               min_samples_leaf=10, \n",
        "                               max_depth=8,\n",
        "                               n_jobs=-1, random_state=5)\n",
        "\n",
        "# Get results from your model\n",
        "get_model_result(X_train, y_train, X_test, y_test, model)"
      ],
      "execution_count": 71,
      "outputs": [
        {
          "output_type": "stream",
          "text": [
            "              precision    recall  f1-score   support\n",
            "\n",
            "         0.0       1.00      1.00      1.00     85296\n",
            "         1.0       0.82      0.81      0.82       147\n",
            "\n",
            "    accuracy                           1.00     85443\n",
            "   macro avg       0.91      0.90      0.91     85443\n",
            "weighted avg       1.00      1.00      1.00     85443\n",
            "\n",
            "[[85270    26]\n",
            " [   28   119]]\n"
          ],
          "name": "stdout"
        }
      ]
    },
    {
      "cell_type": "markdown",
      "metadata": {
        "id": "Sfr-26Kau9yH",
        "colab_type": "text"
      },
      "source": [
        "The false positive is further reduced. The best model would be decided based on how bad it is at not catching a fraudster."
      ]
    },
    {
      "cell_type": "markdown",
      "metadata": {
        "id": "Ex-MZYBdyJTZ",
        "colab_type": "text"
      },
      "source": [
        "### Voting Classifier\n",
        "- combining two or more model to solve  the problem\n"
      ]
    },
    {
      "cell_type": "code",
      "metadata": {
        "id": "K4oKjtzFWQ5B",
        "colab_type": "code",
        "colab": {}
      },
      "source": [
        "from sklearn.tree import DecisionTreeClassifier"
      ],
      "execution_count": 72,
      "outputs": []
    },
    {
      "cell_type": "code",
      "metadata": {
        "id": "6aR58I73ynJ7",
        "colab_type": "code",
        "colab": {
          "base_uri": "https://localhost:8080/",
          "height": 204
        },
        "outputId": "947d5c4d-5800-413e-fa23-4f5f6c71f86e"
      },
      "source": [
        "#import the package\n",
        "from sklearn.ensemble import VotingClassifier  ###########\n",
        "\n",
        "# Define the three classifier to use in the ensemble\n",
        "clf1 = LogisticRegression(class_weight={0:1, 1:15}, random_state=5)\n",
        "clf2 = RandomForestClassifier(class_weight={0:1,1:12}, criterion='gini', max_depth=8, max_features='log2', min_samples_leaf=10, n_estimators=10, n_jobs=-1,random_state=5)\n",
        "clf3 = DecisionTreeClassifier(random_state=5, class_weight='balanced')\n",
        "\n",
        "#combine the classidiers in the ensemble model \n",
        "\n",
        "ensemble_model = VotingClassifier(estimators=[('lr', clf1), ('rf', clf2), ('dt', clf3)], voting='hard')\n",
        "\n",
        "# Get the result\n",
        "get_model_result(X_train, y_train, X_test, y_test, ensemble_model)\n"
      ],
      "execution_count": 73,
      "outputs": [
        {
          "output_type": "stream",
          "text": [
            "              precision    recall  f1-score   support\n",
            "\n",
            "         0.0       1.00      1.00      1.00     85296\n",
            "         1.0       0.86      0.81      0.83       147\n",
            "\n",
            "    accuracy                           1.00     85443\n",
            "   macro avg       0.93      0.90      0.92     85443\n",
            "weighted avg       1.00      1.00      1.00     85443\n",
            "\n",
            "[[85276    20]\n",
            " [   28   119]]\n"
          ],
          "name": "stdout"
        }
      ]
    },
    {
      "cell_type": "markdown",
      "metadata": {
        "id": "NQagiY6b4sN1",
        "colab_type": "text"
      },
      "source": [
        "From the above result, by combining the three models we have been able to reduce our false positve significantly and attain overall better performance"
      ]
    },
    {
      "cell_type": "markdown",
      "metadata": {
        "id": "1l0n8JMj56Xn",
        "colab_type": "text"
      },
      "source": [
        "### Adjust weights within the Voting Classifier"
      ]
    },
    {
      "cell_type": "code",
      "metadata": {
        "id": "IU3FKKdg3GfM",
        "colab_type": "code",
        "colab": {
          "base_uri": "https://localhost:8080/",
          "height": 204
        },
        "outputId": "1bead05d-388c-4801-8705-9cfc40cf02ee"
      },
      "source": [
        "# define the ensemble model\n",
        "ensemble_model2 = VotingClassifier(   #####################\n",
        "                                  estimators = [('lr',clf1), ('rf', clf2), ('gnb', clf3)],\n",
        "                                  voting= 'soft',\n",
        "                                  weights=[1, 4, 1],\n",
        "                                  flatten_transform=True)\n",
        "#Get result\n",
        "get_model_result(X_train, y_train, X_test, y_test, ensemble_model2)"
      ],
      "execution_count": 74,
      "outputs": [
        {
          "output_type": "stream",
          "text": [
            "              precision    recall  f1-score   support\n",
            "\n",
            "         0.0       1.00      1.00      1.00     85296\n",
            "         1.0       0.86      0.81      0.83       147\n",
            "\n",
            "    accuracy                           1.00     85443\n",
            "   macro avg       0.93      0.90      0.92     85443\n",
            "weighted avg       1.00      1.00      1.00     85443\n",
            "\n",
            "[[85276    20]\n",
            " [   28   119]]\n"
          ],
          "name": "stdout"
        }
      ]
    },
    {
      "cell_type": "code",
      "metadata": {
        "id": "UJ_uIrsA76o0",
        "colab_type": "code",
        "colab": {
          "base_uri": "https://localhost:8080/",
          "height": 340
        },
        "outputId": "eda2eda6-74de-4dd5-f592-47f5b26403a1"
      },
      "source": [
        "ensemble_model2.estimators_"
      ],
      "execution_count": 75,
      "outputs": [
        {
          "output_type": "execute_result",
          "data": {
            "text/plain": [
              "[LogisticRegression(C=1.0, class_weight={0: 1, 1: 15}, dual=False,\n",
              "                    fit_intercept=True, intercept_scaling=1, l1_ratio=None,\n",
              "                    max_iter=100, multi_class='auto', n_jobs=None, penalty='l2',\n",
              "                    random_state=5, solver='lbfgs', tol=0.0001, verbose=0,\n",
              "                    warm_start=False),\n",
              " RandomForestClassifier(bootstrap=True, ccp_alpha=0.0,\n",
              "                        class_weight={0: 1, 1: 12}, criterion='gini',\n",
              "                        max_depth=8, max_features='log2', max_leaf_nodes=None,\n",
              "                        max_samples=None, min_impurity_decrease=0.0,\n",
              "                        min_impurity_split=None, min_samples_leaf=10,\n",
              "                        min_samples_split=2, min_weight_fraction_leaf=0.0,\n",
              "                        n_estimators=10, n_jobs=-1, oob_score=False,\n",
              "                        random_state=5, verbose=0, warm_start=False),\n",
              " DecisionTreeClassifier(ccp_alpha=0.0, class_weight='balanced', criterion='gini',\n",
              "                        max_depth=None, max_features=None, max_leaf_nodes=None,\n",
              "                        min_impurity_decrease=0.0, min_impurity_split=None,\n",
              "                        min_samples_leaf=1, min_samples_split=2,\n",
              "                        min_weight_fraction_leaf=0.0, presort='deprecated',\n",
              "                        random_state=5, splitter='best')]"
            ]
          },
          "metadata": {
            "tags": []
          },
          "execution_count": 75
        }
      ]
    },
    {
      "cell_type": "code",
      "metadata": {
        "id": "3eWYna0v8RA3",
        "colab_type": "code",
        "colab": {}
      },
      "source": [
        ""
      ],
      "execution_count": null,
      "outputs": []
    }
  ]
}
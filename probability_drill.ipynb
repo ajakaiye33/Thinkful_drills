{
 "cells": [
  {
   "cell_type": "markdown",
   "metadata": {},
   "source": [
    "# Probability Drills"
   ]
  },
  {
   "cell_type": "markdown",
   "metadata": {},
   "source": [
    "## solution No 1\n",
    "\n",
    "* 2H 2T = 4C2* 1/16 = 4!/2!(4!-2!) * 1/16 = 4 * 3 * 2 * 1/2 * 1 * 2 * 1 * 1/16 = 6 * 1/16 = 3/8\n",
    "* 4H 0T = 4C4 * 1/16 = 4!/4!(4!-4!) * 1/16 = 4 * 3 * 2 * 1/4* 3 * 2 * 1 * 1/16 = 1/16 = 1/16\n",
    "* 2T 2H = 4C2 * 1\\16 = 4!/2!(4!-2!) * 1/16 = 4 * 3 * 2 * 1/ 2 * 1 * 2 * 1 * 1/16 = 6 * 1/16 = 3/8\n",
    "\n",
    "* 3/8 + 1/16 + 3/8 = **13/16**\n",
    "\n",
    "Correct ans = 0.5 * 0.5 * 0.5 * 0.5"
   ]
  },
  {
   "cell_type": "markdown",
   "metadata": {},
   "source": [
    "## Solution No 2"
   ]
  },
  {
   "cell_type": "markdown",
   "metadata": {},
   "source": [
    "probability of not choosing a man which invariably is the probability of choosing a woman is:\n",
    "24/45"
   ]
  },
  {
   "cell_type": "markdown",
   "metadata": {},
   "source": [
    "## Solution No 3"
   ]
  },
  {
   "cell_type": "markdown",
   "metadata": {},
   "source": [
    "Probability of Bernie being in a plane crash\n",
    "\n",
    "5 * .005 = 0.0025 percent\n",
    "\n",
    "correct = 0.0005 percent"
   ]
  },
  {
   "cell_type": "markdown",
   "metadata": {},
   "source": [
    "## Solution No 4"
   ]
  },
  {
   "cell_type": "markdown",
   "metadata": {},
   "source": [
    "In my opinion the premise of the problem is different from the conclusion arrived at. Thus wrong/different question was answered from the premise made"
   ]
  },
  {
   "cell_type": "code",
   "execution_count": null,
   "metadata": {
    "collapsed": true
   },
   "outputs": [],
   "source": []
  }
 ],
 "metadata": {
  "kernelspec": {
   "display_name": "Python 3",
   "language": "python",
   "name": "python3"
  },
  "language_info": {
   "codemirror_mode": {
    "name": "ipython",
    "version": 3
   },
   "file_extension": ".py",
   "mimetype": "text/x-python",
   "name": "python",
   "nbconvert_exporter": "python",
   "pygments_lexer": "ipython3",
   "version": "3.6.1"
  }
 },
 "nbformat": 4,
 "nbformat_minor": 2
}

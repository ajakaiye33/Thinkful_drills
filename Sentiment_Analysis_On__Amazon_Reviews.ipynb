{
  "nbformat": 4,
  "nbformat_minor": 0,
  "metadata": {
    "colab": {
      "name": "Sentiment_Analysis_On_ Amazon_Reviews.ipynb",
      "provenance": [],
      "authorship_tag": "ABX9TyM9/Eo8FQ41C4GFEUPI2ZU0"
    },
    "kernelspec": {
      "name": "python3",
      "display_name": "Python 3"
    }
  },
  "cells": [
    {
      "cell_type": "code",
      "metadata": {
        "id": "b7rh_5xKoqxG",
        "colab_type": "code",
        "colab": {}
      },
      "source": [
        "# import necessary package and modules\n",
        "import requests\n",
        "from pandas.io.json import json_normalize\n",
        "import pandas as pd\n",
        "import seaborn as sns\n",
        "import s3fs\n",
        "import matplotlib.pyplot as plt\n",
        "\n",
        "\n",
        "\n",
        "% matplotlib inline"
      ],
      "execution_count": 17,
      "outputs": []
    },
    {
      "cell_type": "code",
      "metadata": {
        "id": "awmUWLbftUy3",
        "colab_type": "code",
        "colab": {}
      },
      "source": [
        "\n",
        "app_rev = pd.read_json('s3://app-reviews-data/Appliances_5.json', lines=True)\n"
      ],
      "execution_count": 18,
      "outputs": []
    },
    {
      "cell_type": "code",
      "metadata": {
        "id": "iK7X5wVnu71c",
        "colab_type": "code",
        "colab": {
          "base_uri": "https://localhost:8080/",
          "height": 221
        },
        "outputId": "2935844b-5fc6-41c1-e8b9-882ed8233256"
      },
      "source": [
        "pd.set_option('display.max_rows',100)\n",
        "app_rev['summary']"
      ],
      "execution_count": 23,
      "outputs": [
        {
          "output_type": "execute_result",
          "data": {
            "text/plain": [
              "0                                           Great product\n",
              "1                                              Five Stars\n",
              "2                                              Five Stars\n",
              "3                                            Perfect size\n",
              "4                                              Five Stars\n",
              "                              ...                        \n",
              "2272                                  Worked like a charm\n",
              "2273    Excellent product and showed me that my vent o...\n",
              "2274                                           Five Stars\n",
              "2275                                           Five Stars\n",
              "2276                                           Five Stars\n",
              "Name: summary, Length: 2277, dtype: object"
            ]
          },
          "metadata": {
            "tags": []
          },
          "execution_count": 23
        }
      ]
    },
    {
      "cell_type": "code",
      "metadata": {
        "id": "9ttKoScaGmCC",
        "colab_type": "code",
        "colab": {}
      },
      "source": [
        ""
      ],
      "execution_count": null,
      "outputs": []
    }
  ]
}
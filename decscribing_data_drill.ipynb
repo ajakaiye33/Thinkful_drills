{
 "cells": [
  {
   "cell_type": "code",
   "execution_count": 23,
   "metadata": {
    "collapsed": true
   },
   "outputs": [],
   "source": [
    "import pandas as pd\n",
    "import numpy as np\n",
    "import statistics as s"
   ]
  },
  {
   "cell_type": "markdown",
   "metadata": {},
   "source": [
    "## Solution No 1"
   ]
  },
  {
   "cell_type": "markdown",
   "metadata": {},
   "source": [
    "greg = 14\n",
    "marcia = 12\n",
    "peter = 11\n",
    "jan = 10\n",
    "bobby = 8\n",
    "cindy = 6\n",
    "cousin_oliver = 8\n",
    "\n",
    "*Mean*: 9.86\n",
    "*Median* : 10\n",
    "*Mode* : 8\n"
   ]
  },
  {
   "cell_type": "markdown",
   "metadata": {},
   "source": [
    "Variance:\n",
    "\n",
    "\n",
    "* 14 - 9.86 = 4.14^2\n",
    "* 12 - 9.86 = 2.14^2\n",
    "* 11 - 9.86 = 1.14^2\n",
    "* 10 - 9.86 = 0.14^2\n",
    "* 8 - 9.86 =  -1.86^2\n",
    "* 6 - 9.86 = -3.86^2\n",
    "* 8 - 9.86 = -1.86^2\n",
    "* 17.1396 + 4.5796 + 1.2996 + 0.00196 + 3.4596 + 14.8996 + 3.4596/7-1\n",
    "* 44.83956/6\n",
    "* 7.47326\n",
    "\n",
    "\n",
    "\n",
    "Standard Deviation\n",
    "*  2.733\n",
    "\n",
    "Standard error\n",
    "\n",
    "* 1.0329\n"
   ]
  },
  {
   "cell_type": "code",
   "execution_count": 43,
   "metadata": {},
   "outputs": [],
   "source": [
    "brandy_kids = np.array([14,12,11,10,8,6,8])"
   ]
  },
  {
   "cell_type": "code",
   "execution_count": 66,
   "metadata": {},
   "outputs": [
    {
     "data": {
      "text/plain": [
       "(9.8571428571428577, 10.0, 8)"
      ]
     },
     "execution_count": 66,
     "metadata": {},
     "output_type": "execute_result"
    }
   ],
   "source": [
    "mean = np.mean(brandy_kids)\n",
    "median = np.median(brandy_kids)\n",
    "mode = s.mode(brandy_kids)\n",
    "\n",
    "\n",
    "mean,median,mode"
   ]
  },
  {
   "cell_type": "code",
   "execution_count": 69,
   "metadata": {},
   "outputs": [
    {
     "data": {
      "text/plain": [
       "(6.408163265306122, 2.5314350209527641, 0.95679250365151347)"
      ]
     },
     "execution_count": 69,
     "metadata": {},
     "output_type": "execute_result"
    }
   ],
   "source": [
    "#variance\n",
    "vari = np.var(brandy_kids)\n",
    "stand = np.std(brandy_kids)\n",
    "stand_err = np.std(brandy_kids) / np.sqrt(len(brandy_kids))\n",
    "vari, stand,stand_err"
   ]
  },
  {
   "cell_type": "markdown",
   "metadata": {},
   "source": [
    "## Solution 2"
   ]
  },
  {
   "cell_type": "markdown",
   "metadata": {},
   "source": [
    "For central tendency I would settle for the median because it's a true representation of the middle of the data and for the variance I would go for standard deviation because is the most concise way of telling level of variability of the datapoint from the mean"
   ]
  },
  {
   "cell_type": "markdown",
   "metadata": {},
   "source": [
    "## Solution 3"
   ]
  },
  {
   "cell_type": "code",
   "execution_count": 55,
   "metadata": {
    "collapsed": true
   },
   "outputs": [],
   "source": [
    "cindy_bday = np.array([14,12,11,10,8,7,8])"
   ]
  },
  {
   "cell_type": "code",
   "execution_count": 59,
   "metadata": {},
   "outputs": [
    {
     "data": {
      "text/plain": [
       "(10.0, 10.0, 8)"
      ]
     },
     "execution_count": 59,
     "metadata": {},
     "output_type": "execute_result"
    }
   ],
   "source": [
    "mean = np.mean(cindy_bday)\n",
    "median = np.median(cindy_bday)\n",
    "mode = s.mode(cindy_bday)\n",
    "mean, median, mode"
   ]
  },
  {
   "cell_type": "markdown",
   "metadata": {},
   "source": [
    "The mean changed from 9.86 to 10 whereas the median and the mode remained the same\n",
    "        "
   ]
  },
  {
   "cell_type": "markdown",
   "metadata": {},
   "source": [
    "## Solution 4"
   ]
  },
  {
   "cell_type": "code",
   "execution_count": 71,
   "metadata": {},
   "outputs": [
    {
     "data": {
      "text/plain": [
       "(8.8571428571428577, 10.0)"
      ]
     },
     "execution_count": 71,
     "metadata": {},
     "output_type": "execute_result"
    }
   ],
   "source": [
    "cousine_replaced = np.array([14,12,11,10,8,6,1])\n",
    "mean = np.mean(cousine_replaced)\n",
    "median = np.median(cousine_replaced)\n",
    "#mode = s.mode(cousine_replaced) no mode\n",
    "mean,median"
   ]
  },
  {
   "cell_type": "markdown",
   "metadata": {},
   "source": [
    "I would remain with the median because it has proven to be consistent measure of central tendency"
   ]
  },
  {
   "cell_type": "markdown",
   "metadata": {},
   "source": [
    "## Solution 5"
   ]
  },
  {
   "cell_type": "code",
   "execution_count": 77,
   "metadata": {},
   "outputs": [
    {
     "data": {
      "text/plain": [
       "18.5"
      ]
     },
     "execution_count": 77,
     "metadata": {},
     "output_type": "execute_result"
    }
   ],
   "source": [
    "brandy_bunch = np.array([20,23,17,5])\n",
    "percentile = np.percentile(brandy_bunch, 50)\n",
    "percentile"
   ]
  },
  {
   "cell_type": "code",
   "execution_count": null,
   "metadata": {
    "collapsed": true
   },
   "outputs": [],
   "source": []
  }
 ],
 "metadata": {
  "kernelspec": {
   "display_name": "Python 3",
   "language": "python",
   "name": "python3"
  },
  "language_info": {
   "codemirror_mode": {
    "name": "ipython",
    "version": 3
   },
   "file_extension": ".py",
   "mimetype": "text/x-python",
   "name": "python",
   "nbconvert_exporter": "python",
   "pygments_lexer": "ipython3",
   "version": "3.6.1"
  }
 },
 "nbformat": 4,
 "nbformat_minor": 2
}

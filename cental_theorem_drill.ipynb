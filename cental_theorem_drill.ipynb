{
 "cells": [
  {
   "cell_type": "markdown",
   "metadata": {},
   "source": [
    "# Exploring Central Limit Theorem"
   ]
  },
  {
   "cell_type": "markdown",
   "metadata": {},
   "source": [
    "## Generating The population(s) "
   ]
  },
  {
   "cell_type": "code",
   "execution_count": 48,
   "metadata": {},
   "outputs": [],
   "source": [
    "import pandas as pd\n",
    "import numpy as np\n",
    "import seaborn as sns\n",
    "from scipy.stats import ttest_ind\n",
    "import matplotlib.pyplot as plt\n",
    "%matplotlib inline"
   ]
  },
  {
   "cell_type": "code",
   "execution_count": 3,
   "metadata": {},
   "outputs": [],
   "source": [
    "pop1 = np.random.binomial(10, 0.2, 10000)\n",
    "pop2 = np.random.binomial(10,0.5, 10000)"
   ]
  },
  {
   "cell_type": "code",
   "execution_count": 9,
   "metadata": {},
   "outputs": [
    {
     "data": {
      "image/png": "[encoded data removed]",
      "text/plain": [
       "<matplotlib.figure.Figure at 0x116942160>"
      ]
     },
     "metadata": {},
     "output_type": "display_data"
    }
   ],
   "source": [
    "plt.hist(pop1, alpha=0.5,label='Population 1')\n",
    "plt.hist(pop2, alpha=0.5, label='Population 2')\n",
    "plt.legend(loc='upper right')\n",
    "plt.show()"
   ]
  },
  {
   "cell_type": "code",
   "execution_count": null,
   "metadata": {
    "collapsed": true
   },
   "outputs": [],
   "source": []
  },
  {
   "cell_type": "markdown",
   "metadata": {},
   "source": [
    "## Generate the samples"
   ]
  },
  {
   "cell_type": "code",
   "execution_count": 26,
   "metadata": {},
   "outputs": [
    {
     "data": {
      "image/png": "[encoded data removed]",
      "text/plain": [
       "<matplotlib.figure.Figure at 0x116652b38>"
      ]
     },
     "metadata": {},
     "output_type": "display_data"
    }
   ],
   "source": [
    "samp1 = np.random.choice(pop1, 100, replace=True)\n",
    "samp2 = np.random.choice(pop2, 100, replace=True)\n",
    "\n",
    "\n",
    "plt.hist(samp1, alpha=0.5, label='Sample 1')\n",
    "plt.hist(samp2, alpha=0.5, label='Sample 2')\n",
    "plt.legend(loc='upper right')\n",
    "plt.show()"
   ]
  },
  {
   "cell_type": "markdown",
   "metadata": {},
   "source": [
    "## Calculate mean and standard deviation  for samples"
   ]
  },
  {
   "cell_type": "code",
   "execution_count": 93,
   "metadata": {},
   "outputs": [
    {
     "name": "stdout",
     "output_type": "stream",
     "text": [
      "sample1 mean >> 1.78\n",
      "sample1 standard deviation >> 1.2536347155371852\n",
      "sample2 mean >> 4.76\n",
      "sample2 standard deviation >> 1.5370100845472683\n"
     ]
    }
   ],
   "source": [
    "samp1_mean = np.mean(samp1)\n",
    "samp1_std = np.std(samp1)\n",
    "samp2_mean = np.mean(samp2)\n",
    "samp2_std = np.std(samp2)\n",
    "print(f\"sample1 mean >> {samp1_mean}\")\n",
    "print(f\"sample1 standard deviation >> {samp1_std}\")\n",
    "print(f\"sample2 mean >> {samp2_mean}\")\n",
    "print(f\"sample2 standard deviation >> {samp2_std}\")"
   ]
  },
  {
   "cell_type": "markdown",
   "metadata": {},
   "source": [
    "## Solution No 1"
   ]
  },
  {
   "cell_type": "code",
   "execution_count": 35,
   "metadata": {},
   "outputs": [
    {
     "data": {
      "image/png": "[encoded data removed]",
      "text/plain": [
       "<matplotlib.figure.Figure at 0x116a20160>"
      ]
     },
     "metadata": {},
     "output_type": "display_data"
    }
   ],
   "source": [
    "#Increase the sample size to 1000\n",
    "sap1 = np.random.choice(pop1, 1000, replace=True)\n",
    "sap2 = np.random.choice(pop2, 1000, replace=True)\n",
    "\n",
    "\n",
    "plt.hist(sap1, alpha=0.5, label='sample1')\n",
    "plt.hist(sap2, alpha=0.5, label='sample2')\n",
    "plt.legend(loc='upper left')\n",
    "plt.show()"
   ]
  },
  {
   "cell_type": "code",
   "execution_count": 36,
   "metadata": {},
   "outputs": [
    {
     "data": {
      "text/plain": [
       "(1.9319999999999999,\n",
       " 1.2551398328473207,\n",
       " 5.0179999999999998,\n",
       " 1.6485375336946382)"
      ]
     },
     "execution_count": 36,
     "metadata": {},
     "output_type": "execute_result"
    }
   ],
   "source": [
    "sap1_mean = np.mean(sap1)\n",
    "sap1_std = np.std(sap1)\n",
    "sap2_mean = np.mean(sap2)\n",
    "sap2_std = np.std(sap2)\n",
    "sap1_mean,sap1_std,sap2_mean,sap2_std"
   ]
  },
  {
   "cell_type": "code",
   "execution_count": 38,
   "metadata": {},
   "outputs": [
    {
     "data": {
      "image/png": "[encoded data removed]",
      "text/plain": [
       "<matplotlib.figure.Figure at 0x1164817b8>"
      ]
     },
     "metadata": {},
     "output_type": "display_data"
    }
   ],
   "source": [
    "##Decrease the sample size to 20\n",
    "sa1 = np.random.choice(pop1,20, replace=True)\n",
    "sa2 = np.random.choice(pop2,20, replace=True)\n",
    "\n",
    "plt.hist(sa1, alpha=0.5, label='sample 1' )\n",
    "plt.hist(sa2, alpha=0.5, label='sample 2')\n",
    "plt.legend(loc='upper right')\n",
    "plt.show()"
   ]
  },
  {
   "cell_type": "code",
   "execution_count": 39,
   "metadata": {},
   "outputs": [
    {
     "data": {
      "text/plain": [
       "(2.0499999999999998, 1.319090595827292, 5.4000000000000004, 1.319090595827292)"
      ]
     },
     "execution_count": 39,
     "metadata": {},
     "output_type": "execute_result"
    }
   ],
   "source": [
    "mean_sa1 = np.mean(sa1)\n",
    "std_sai = np.std(sa2)\n",
    "mean_sa2 = np.mean(sa2)\n",
    "std_sa2 = np.std(sa2)\n",
    "mean_sa1,std_sai,mean_sa2,std_sa2"
   ]
  },
  {
   "cell_type": "markdown",
   "metadata": {},
   "source": [
    "## Solution No 2"
   ]
  },
  {
   "cell_type": "code",
   "execution_count": 41,
   "metadata": {},
   "outputs": [
    {
     "data": {
      "image/png": "[encoded data removed]",
      "text/plain": [
       "<matplotlib.figure.Figure at 0x1163a4710>"
      ]
     },
     "metadata": {},
     "output_type": "display_data"
    }
   ],
   "source": [
    "#change the probability value of first population to 0.3\n",
    "\n",
    "popu1 = np.random.binomial(10, 0.3, 10000)\n",
    "popu2 = np.random.binomial(10, 0.5, 10000)\n",
    "\n",
    "plt.hist(popu1, alpha=0.5)\n",
    "plt.hist(popu2, alpha=0.5)\n",
    "plt.show()"
   ]
  },
  {
   "cell_type": "code",
   "execution_count": 80,
   "metadata": {},
   "outputs": [
    {
     "data": {
      "text/plain": [
       "(2.9980000000000002,\n",
       " 1.4438130072831454,\n",
       " 4.9996999999999998,\n",
       " 1.5785119290014884)"
      ]
     },
     "execution_count": 80,
     "metadata": {},
     "output_type": "execute_result"
    }
   ],
   "source": [
    "# m = np.mean(popu1)\n",
    "# s = np.std(popu1)\n",
    "# m2 = np.mean(popu2)\n",
    "# s2 = np.std(popu2)\n",
    "# m,s,m2,s2"
   ]
  },
  {
   "cell_type": "code",
   "execution_count": 85,
   "metadata": {},
   "outputs": [
    {
     "data": {
      "image/png": "[encoded data removed]",
      "text/plain": [
       "<matplotlib.figure.Figure at 0x116500c18>"
      ]
     },
     "metadata": {},
     "output_type": "display_data"
    }
   ],
   "source": [
    "## generate sample\n",
    "\n",
    "samq1 = np.random.choice(popu1, 1000, replace=True)\n",
    "samq2 = np.random.choice(popu2,1000, replace=True)\n",
    "plt.hist(samq1,alpha=0.5)\n",
    "plt.hist(samq2, alpha=0.5)\n",
    "plt.show()"
   ]
  },
  {
   "cell_type": "code",
   "execution_count": 87,
   "metadata": {},
   "outputs": [
    {
     "data": {
      "text/plain": [
       "(2.9039999999999999,\n",
       " 1.4222461109104851,\n",
       " 5.0579999999999998,\n",
       " 1.5253314393927637)"
      ]
     },
     "execution_count": 87,
     "metadata": {},
     "output_type": "execute_result"
    }
   ],
   "source": [
    "## calculate mean and std deviation\n",
    "\n",
    "meanq2 = np.mean(samq1)\n",
    "stdq2 = np.std(samq1)\n",
    "meanq21 = np.mean(samq2)\n",
    "stdq21 = np.std(samq2)\n",
    "meanq2,stdq2,meanq21,stdq21"
   ]
  },
  {
   "cell_type": "markdown",
   "metadata": {},
   "source": [
    "### calculating the ttest and p-value"
   ]
  },
  {
   "cell_type": "code",
   "execution_count": 73,
   "metadata": {},
   "outputs": [
    {
     "data": {
      "text/plain": [
       "Ttest_indResult(statistic=-7.333277861040246, pvalue=5.64843655596671e-12)"
      ]
     },
     "execution_count": 73,
     "metadata": {},
     "output_type": "execute_result"
    }
   ],
   "source": [
    "t_test = ttest_ind(samq1, samq2, equal_var=False)\n",
    "t_test"
   ]
  },
  {
   "cell_type": "code",
   "execution_count": 74,
   "metadata": {},
   "outputs": [
    {
     "data": {
      "image/png": "[encoded data removed]",
      "text/plain": [
       "<matplotlib.figure.Figure at 0x11665d2e8>"
      ]
     },
     "metadata": {},
     "output_type": "display_data"
    }
   ],
   "source": [
    "#change the probability value to 0.4\n",
    "pp1 = np.random.binomial(10, 0.4, 10000)\n",
    "pp2 = np.random.binomial(10,0.5,10000)\n",
    "\n",
    "plt.hist(pp1,alpha=0.5)\n",
    "plt.hist(pp2,alpha=0.5)\n",
    "plt.show()"
   ]
  },
  {
   "cell_type": "code",
   "execution_count": 75,
   "metadata": {},
   "outputs": [
    {
     "data": {
      "image/png": "[encoded data removed]",
      "text/plain": [
       "<matplotlib.figure.Figure at 0x116ec4630>"
      ]
     },
     "metadata": {},
     "output_type": "display_data"
    }
   ],
   "source": [
    "#generate samples\n",
    "ss1 = np.random.choice(pp1, 100, replace=True)\n",
    "ss2 = np.random.choice(pp2, 100, replace=True)\n",
    "plt.hist(ss1, alpha=0.5)\n",
    "plt.hist(ss2, alpha=0.5)\n",
    "plt.show()"
   ]
  },
  {
   "cell_type": "code",
   "execution_count": 76,
   "metadata": {},
   "outputs": [
    {
     "data": {
      "text/plain": [
       "Ttest_indResult(statistic=-4.0373761880900974, pvalue=7.7231487205132635e-05)"
      ]
     },
     "execution_count": 76,
     "metadata": {},
     "output_type": "execute_result"
    }
   ],
   "source": [
    "t_ty = ttest_ind(ss1, ss2, equal_var='False')\n",
    "t_ty"
   ]
  },
  {
   "cell_type": "markdown",
   "metadata": {},
   "source": [
    "## Solution No3"
   ]
  },
  {
   "cell_type": "code",
   "execution_count": 78,
   "metadata": {},
   "outputs": [
    {
     "data": {
      "image/png": "[encoded data removed]",
      "text/plain": [
       "<matplotlib.figure.Figure at 0x116b0e978>"
      ]
     },
     "metadata": {},
     "output_type": "display_data"
    }
   ],
   "source": [
    "#Using normal distribution\n",
    "\n",
    "pop_normal1 = np.random.normal(10,0.2,10000)\n",
    "pop_normal2 = np.random.normal(10,0.5,10000)\n",
    "\n",
    "plt.hist(pop_normal1, alpha=0.5, label='popnormal')\n",
    "plt.hist(pop_normal2, alpha=0.5, label='popnormal2')\n",
    "plt.legend(loc='upper left')\n",
    "plt.show()\n"
   ]
  },
  {
   "cell_type": "code",
   "execution_count": 90,
   "metadata": {},
   "outputs": [
    {
     "data": {
      "text/plain": [
       "(10.002838221893589,\n",
       " 0.19798391080792149,\n",
       " 10.002709374423715,\n",
       " 0.49567358598669042)"
      ]
     },
     "execution_count": 90,
     "metadata": {},
     "output_type": "execute_result"
    }
   ],
   "source": [
    "# m = np.mean(pop_normal1)\n",
    "# s = np.std(pop_normal1)\n",
    "# m2 = np.mean(pop_normal2)\n",
    "# s2 = np.std(pop_normal2)\n",
    "# m,s,m2,s2"
   ]
  },
  {
   "cell_type": "code",
   "execution_count": 79,
   "metadata": {},
   "outputs": [
    {
     "data": {
      "image/png": "[encoded data removed]",
      "text/plain": [
       "<matplotlib.figure.Figure at 0x116a20a90>"
      ]
     },
     "metadata": {},
     "output_type": "display_data"
    }
   ],
   "source": [
    "#generate sample for the normal distribution\n",
    "norm_sample1 = np.random.choice(pop_normal1, 100, replace=True)\n",
    "norm_sample2 = np.random.choice(pop_normal2, 100, replace=True)\n",
    "\n",
    "\n",
    "plt.hist(norm_sample1, alpha=0.5, label='normalsample1')\n",
    "plt.hist(norm_sample2, alpha=0.5,label='normalsample2')\n",
    "plt.legend(loc='upper right')\n",
    "plt.show()\n"
   ]
  },
  {
   "cell_type": "code",
   "execution_count": 89,
   "metadata": {},
   "outputs": [
    {
     "data": {
      "text/plain": [
       "(10.04499015809234,\n",
       " 0.20174567812566413,\n",
       " 10.034224188342675,\n",
       " 0.49708317740523694)"
      ]
     },
     "execution_count": 89,
     "metadata": {},
     "output_type": "execute_result"
    }
   ],
   "source": [
    "norm_mean = np.mean(norm_sample1)\n",
    "norm_std = np.std(norm_sample1)\n",
    "norm_mean2 = np.mean(norm_sample2)\n",
    "norm_std2 = np.std(norm_sample2)\n",
    "\n",
    "norm_mean,norm_std, norm_mean2, norm_std2"
   ]
  },
  {
   "cell_type": "code",
   "execution_count": 92,
   "metadata": {},
   "outputs": [
    {
     "data": {
      "text/plain": [
       "Ttest_indResult(statistic=0.19967819232015879, pvalue=0.84204247504142404)"
      ]
     },
     "execution_count": 92,
     "metadata": {},
     "output_type": "execute_result"
    }
   ],
   "source": [
    "#calculate the ttest\n",
    "testy = ttest_ind(norm_sample1, norm_sample2,equal_var=False)\n",
    "testy"
   ]
  },
  {
   "cell_type": "code",
   "execution_count": null,
   "metadata": {
    "collapsed": true
   },
   "outputs": [],
   "source": []
  }
 ],
 "metadata": {
  "kernelspec": {
   "display_name": "Python 3",
   "language": "python",
   "name": "python3"
  },
  "language_info": {
   "codemirror_mode": {
    "name": "ipython",
    "version": 3
   },
   "file_extension": ".py",
   "mimetype": "text/x-python",
   "name": "python",
   "nbconvert_exporter": "python",
   "pygments_lexer": "ipython3",
   "version": "3.6.1"
  }
 },
 "nbformat": 4,
 "nbformat_minor": 2
}
